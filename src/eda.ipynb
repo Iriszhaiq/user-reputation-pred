{
 "cells": [
  {
   "cell_type": "markdown",
   "metadata": {},
   "source": [
    "Overview of Stack Exchange User Reputation Prediction Dataset\n",
    "\n",
    "First, read both `.txt` files into `pd.DataFrame`."
   ]
  },
  {
   "cell_type": "code",
   "execution_count": 10,
   "metadata": {},
   "outputs": [],
   "source": [
    "import numpy as np\n",
    "import pandas as pd\n",
    "import matplotlib.pyplot as plt\n",
    "\n",
    "%matplotlib inline"
   ]
  },
  {
   "cell_type": "code",
   "execution_count": 3,
   "metadata": {},
   "outputs": [],
   "source": [
    "train_data_file = \"../data/Reputation_prediction_data_train.txt\"\n",
    "train_label_file = \"../data/Reputation_prediction_labels_train.txt\""
   ]
  },
  {
   "cell_type": "code",
   "execution_count": 6,
   "metadata": {},
   "outputs": [],
   "source": [
    "train_data = pd.read_csv(train_data_file, sep=\"\\t\", header=None)\n",
    "train_data.columns = [\"textual_description\", \"user_id\", \"content_type\", \"timestamp\"]\n",
    "\n",
    "train_label = pd.read_csv(train_label_file, sep=\"\\t\", header=None)\n",
    "train_label.columns = [\"user_id\", \"user_reputation\"]"
   ]
  },
  {
   "cell_type": "code",
   "execution_count": 7,
   "metadata": {},
   "outputs": [
    {
     "data": {
      "text/html": [
       "<div>\n",
       "<style scoped>\n",
       "    .dataframe tbody tr th:only-of-type {\n",
       "        vertical-align: middle;\n",
       "    }\n",
       "\n",
       "    .dataframe tbody tr th {\n",
       "        vertical-align: top;\n",
       "    }\n",
       "\n",
       "    .dataframe thead th {\n",
       "        text-align: right;\n",
       "    }\n",
       "</style>\n",
       "<table border=\"1\" class=\"dataframe\">\n",
       "  <thead>\n",
       "    <tr style=\"text-align: right;\">\n",
       "      <th></th>\n",
       "      <th>textual_description</th>\n",
       "      <th>user_id</th>\n",
       "      <th>content_type</th>\n",
       "      <th>timestamp</th>\n",
       "    </tr>\n",
       "  </thead>\n",
       "  <tbody>\n",
       "    <tr>\n",
       "      <th>0</th>\n",
       "      <td>main tenet belief emerg church emerg word thro...</td>\n",
       "      <td>1</td>\n",
       "      <td>Q</td>\n",
       "      <td>0.01</td>\n",
       "    </tr>\n",
       "    <tr>\n",
       "      <th>1</th>\n",
       "      <td>judaism celebr sabbath saturday christian cele...</td>\n",
       "      <td>1</td>\n",
       "      <td>Q</td>\n",
       "      <td>0.01</td>\n",
       "    </tr>\n",
       "    <tr>\n",
       "      <th>2</th>\n",
       "      <td>theolog differ greek orthodox church coptic eg...</td>\n",
       "      <td>1</td>\n",
       "      <td>Q</td>\n",
       "      <td>0.01</td>\n",
       "    </tr>\n",
       "    <tr>\n",
       "      <th>3</th>\n",
       "      <td>john chapter appar contradict author john begi...</td>\n",
       "      <td>1</td>\n",
       "      <td>Q</td>\n",
       "      <td>0.01</td>\n",
       "    </tr>\n",
       "    <tr>\n",
       "      <th>4</th>\n",
       "      <td>shadrach abednego understood fourth person fir...</td>\n",
       "      <td>1</td>\n",
       "      <td>Q</td>\n",
       "      <td>0.01</td>\n",
       "    </tr>\n",
       "  </tbody>\n",
       "</table>\n",
       "</div>"
      ],
      "text/plain": [
       "                                 textual_description  user_id content_type  \\\n",
       "0  main tenet belief emerg church emerg word thro...        1            Q   \n",
       "1  judaism celebr sabbath saturday christian cele...        1            Q   \n",
       "2  theolog differ greek orthodox church coptic eg...        1            Q   \n",
       "3  john chapter appar contradict author john begi...        1            Q   \n",
       "4  shadrach abednego understood fourth person fir...        1            Q   \n",
       "\n",
       "   timestamp  \n",
       "0       0.01  \n",
       "1       0.01  \n",
       "2       0.01  \n",
       "3       0.01  \n",
       "4       0.01  "
      ]
     },
     "execution_count": 7,
     "metadata": {},
     "output_type": "execute_result"
    }
   ],
   "source": [
    "train_data.head(5)"
   ]
  },
  {
   "cell_type": "markdown",
   "metadata": {},
   "source": [
    "what is the number of each group (each content type)"
   ]
  },
  {
   "cell_type": "code",
   "execution_count": 11,
   "metadata": {},
   "outputs": [
    {
     "data": {
      "text/plain": [
       "C    48981\n",
       "E    19754\n",
       "A    15748\n",
       "Q     6453\n",
       "F     4867\n",
       "Name: content_type, dtype: int64"
      ]
     },
     "execution_count": 11,
     "metadata": {},
     "output_type": "execute_result"
    }
   ],
   "source": [
    "train_data[\"content_type\"].value_counts()"
   ]
  },
  {
   "cell_type": "code",
   "execution_count": 15,
   "metadata": {},
   "outputs": [
    {
     "data": {
      "text/plain": [
       "'judaism celebr sabbath saturday christian celebr sabbath sunday christian possibl exclud seventh day adventist jew start celebr sabbath differ day week'"
      ]
     },
     "execution_count": 15,
     "metadata": {},
     "output_type": "execute_result"
    }
   ],
   "source": [
    "train_data[\"textual_description\"][1]"
   ]
  },
  {
   "cell_type": "code",
   "execution_count": 16,
   "metadata": {},
   "outputs": [
    {
     "data": {
      "text/plain": [
       "0.01    5850\n",
       "0.02    1690\n",
       "0.50    1557\n",
       "0.32    1444\n",
       "0.33    1376\n",
       "0.26    1348\n",
       "0.41    1342\n",
       "0.27    1340\n",
       "0.99    1324\n",
       "0.28    1272\n",
       "0.60    1231\n",
       "0.31    1229\n",
       "0.94    1229\n",
       "0.40    1223\n",
       "0.10    1217\n",
       "0.49    1199\n",
       "0.42    1188\n",
       "0.08    1164\n",
       "0.34    1148\n",
       "0.17    1130\n",
       "0.69    1110\n",
       "0.51    1108\n",
       "0.19    1095\n",
       "0.47    1090\n",
       "0.68    1079\n",
       "0.11    1070\n",
       "0.58    1062\n",
       "0.16    1060\n",
       "0.38    1058\n",
       "0.12    1037\n",
       "        ... \n",
       "0.75     753\n",
       "0.86     741\n",
       "0.20     733\n",
       "0.79     725\n",
       "0.96     723\n",
       "0.14     705\n",
       "0.76     703\n",
       "0.13     701\n",
       "0.05     687\n",
       "0.30     683\n",
       "0.77     681\n",
       "0.83     675\n",
       "0.88     673\n",
       "0.06     668\n",
       "0.87     663\n",
       "0.66     648\n",
       "0.91     647\n",
       "0.80     645\n",
       "0.81     639\n",
       "0.97     634\n",
       "0.98     629\n",
       "0.65     599\n",
       "0.82     553\n",
       "0.84     549\n",
       "0.85     542\n",
       "0.92     541\n",
       "0.78     520\n",
       "0.04     511\n",
       "0.90     510\n",
       "0.64     472\n",
       "Name: timestamp, Length: 99, dtype: int64"
      ]
     },
     "execution_count": 16,
     "metadata": {},
     "output_type": "execute_result"
    }
   ],
   "source": [
    "train_data[\"timestamp\"].value_counts()"
   ]
  },
  {
   "cell_type": "code",
   "execution_count": 8,
   "metadata": {},
   "outputs": [
    {
     "data": {
      "text/html": [
       "<div>\n",
       "<style scoped>\n",
       "    .dataframe tbody tr th:only-of-type {\n",
       "        vertical-align: middle;\n",
       "    }\n",
       "\n",
       "    .dataframe tbody tr th {\n",
       "        vertical-align: top;\n",
       "    }\n",
       "\n",
       "    .dataframe thead th {\n",
       "        text-align: right;\n",
       "    }\n",
       "</style>\n",
       "<table border=\"1\" class=\"dataframe\">\n",
       "  <thead>\n",
       "    <tr style=\"text-align: right;\">\n",
       "      <th></th>\n",
       "      <th>user_id</th>\n",
       "      <th>user_reputation</th>\n",
       "    </tr>\n",
       "  </thead>\n",
       "  <tbody>\n",
       "    <tr>\n",
       "      <th>0</th>\n",
       "      <td>1</td>\n",
       "      <td>1</td>\n",
       "    </tr>\n",
       "    <tr>\n",
       "      <th>1</th>\n",
       "      <td>2</td>\n",
       "      <td>1</td>\n",
       "    </tr>\n",
       "    <tr>\n",
       "      <th>2</th>\n",
       "      <td>3</td>\n",
       "      <td>1</td>\n",
       "    </tr>\n",
       "    <tr>\n",
       "      <th>3</th>\n",
       "      <td>5</td>\n",
       "      <td>1</td>\n",
       "    </tr>\n",
       "    <tr>\n",
       "      <th>4</th>\n",
       "      <td>6</td>\n",
       "      <td>1</td>\n",
       "    </tr>\n",
       "  </tbody>\n",
       "</table>\n",
       "</div>"
      ],
      "text/plain": [
       "   user_id  user_reputation\n",
       "0        1                1\n",
       "1        2                1\n",
       "2        3                1\n",
       "3        5                1\n",
       "4        6                1"
      ]
     },
     "execution_count": 8,
     "metadata": {},
     "output_type": "execute_result"
    }
   ],
   "source": [
    "train_label.head(5)"
   ]
  },
  {
   "cell_type": "code",
   "execution_count": 12,
   "metadata": {},
   "outputs": [
    {
     "data": {
      "text/plain": [
       "3    901\n",
       "1    819\n",
       "2    780\n",
       "Name: user_reputation, dtype: int64"
      ]
     },
     "execution_count": 12,
     "metadata": {},
     "output_type": "execute_result"
    }
   ],
   "source": [
    "train_label[\"user_reputation\"].value_counts()"
   ]
  },
  {
   "cell_type": "code",
   "execution_count": null,
   "metadata": {},
   "outputs": [],
   "source": []
  },
  {
   "cell_type": "code",
   "execution_count": null,
   "metadata": {},
   "outputs": [],
   "source": []
  },
  {
   "cell_type": "code",
   "execution_count": null,
   "metadata": {},
   "outputs": [],
   "source": []
  },
  {
   "cell_type": "code",
   "execution_count": null,
   "metadata": {},
   "outputs": [],
   "source": []
  },
  {
   "cell_type": "code",
   "execution_count": null,
   "metadata": {},
   "outputs": [],
   "source": []
  },
  {
   "cell_type": "code",
   "execution_count": null,
   "metadata": {},
   "outputs": [],
   "source": []
  }
 ],
 "metadata": {
  "kernelspec": {
   "display_name": "Python 3",
   "language": "python",
   "name": "python3"
  },
  "language_info": {
   "codemirror_mode": {
    "name": "ipython",
    "version": 3
   },
   "file_extension": ".py",
   "mimetype": "text/x-python",
   "name": "python",
   "nbconvert_exporter": "python",
   "pygments_lexer": "ipython3",
   "version": "3.5.4"
  }
 },
 "nbformat": 4,
 "nbformat_minor": 2
}
